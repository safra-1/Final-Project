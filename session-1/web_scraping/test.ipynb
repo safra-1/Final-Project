{
 "cells": [
  {
   "cell_type": "code",
   "execution_count": 4,
   "metadata": {},
   "outputs": [],
   "source": [
    "from requests_html import HTMLSession\n",
    "\n",
    "url = \"https://thefinancialexpress.com.bd/page/economy/bangladesh\"\n",
    "\n",
    "session = HTMLSession()\n",
    "response = session.get(url)\n",
    "# title = response.html.find('h1', first=True).text\n",
    "# links = response.html.find('a')\n",
    "# for link in links:\n",
    "    # print(link)\n",
    "    # print(link.text, link.attrs['href'])\n",
    "\n",
    "\n",
    "\n"
   ]
  },
  {
   "cell_type": "code",
   "execution_count": 5,
   "metadata": {},
   "outputs": [
    {
     "data": {
      "text/plain": [
       "'BB raises cash withdrawal limit to Tk 0.4m daily'"
      ]
     },
     "execution_count": 5,
     "metadata": {},
     "output_type": "execute_result"
    }
   ],
   "source": [
    "title = response.html.find('h3', first=True).text\n",
    "title"
   ]
  },
  {
   "cell_type": "code",
   "execution_count": 6,
   "metadata": {},
   "outputs": [
    {
     "data": {
      "text/plain": [
       "'BB raises cash withdrawal limit to Tk 0.4m daily'"
      ]
     },
     "execution_count": 6,
     "metadata": {},
     "output_type": "execute_result"
    }
   ],
   "source": [
    "response.html.find('h3', first=True).text"
   ]
  },
  {
   "cell_type": "code",
   "execution_count": 7,
   "metadata": {},
   "outputs": [
    {
     "data": {
      "text/plain": [
       "'BB raises cash withdrawal limit to Tk 0.4m daily'"
      ]
     },
     "execution_count": 7,
     "metadata": {},
     "output_type": "execute_result"
    }
   ],
   "source": [
    "response.html.find('a.line-clamp-3', first=True).text"
   ]
  },
  {
   "cell_type": "code",
   "execution_count": 25,
   "metadata": {},
   "outputs": [
    {
     "data": {
      "text/plain": [
       "'/page/economy/bangladesh'"
      ]
     },
     "execution_count": 25,
     "metadata": {},
     "output_type": "execute_result"
    }
   ],
   "source": [
    "category_elem = response.html.find('div.mb-2.flex.items-center.mb-4 > a', first=True)\n",
    "category_elem.attrs['href']"
   ]
  },
  {
   "cell_type": "code",
   "execution_count": 57,
   "metadata": {},
   "outputs": [
    {
     "data": {
      "text/plain": [
       "'Bangladesh'"
      ]
     },
     "execution_count": 57,
     "metadata": {},
     "output_type": "execute_result"
    }
   ],
   "source": [
    "category_element = response.html.find('div.mb-2.flex.items-center.mb-4')\n",
    "category = category_element[0].find('a', first=True).text\n",
    "category"
   ]
  },
  {
   "cell_type": "code",
   "execution_count": 10,
   "metadata": {},
   "outputs": [
    {
     "data": {
      "text/plain": [
       "('BB raises cash withdrawal limit to Tk 0.4m daily',\n",
       " 'Editor: Shamsul Huq Zahid',\n",
       " 'Bangladesh Bank (BB) has ordered commercial banks not to allow cash withdrawals of more than Tk 0.40 million per account daily. Earlier, the limit was Tk 0.30 million, reports BSS. The central bank has hiked the limit once in each of the previous three weeks, which it imposed after the deteriorat\\nDistinguished fellow of the Centre for Policy Dialogue (CPD) Professor Dr Mustafizur Rahman has said the prices of essential commodities have increased by at least 50 per cent in the last two years. He came up with the statement while addressing a debate competition organised by Debate For Democra\\nThe Bangladesh Bank is set to announce a decision to raise interest rates from 8.5 per cent to 9.0 per cent in a day or two, Governor Ahsan H Mansur said. In an interview with BBC at the central bank’s offices in Dhaka on Wednesday, Mansur said he would raise rates further to 10 per cent or\\nThe Governor of the Bangladesh Bank Dr Ahsan H Mansur has announced that weak banks including the Shariah-based banks will no longer receive illegal liquidity support from the central bank. He stated that actions will be taken against individuals involved in irregularities, not against institution\\nOngoing large and megaprojects will be reviewed and less-priority and \"politically motivated\" ones scrapped, says Planning and Education Adviser Prof Wahiduddin Mahmud of the interim government. \"There are irregularities in taking up projects as some are undertaken by the influence of the co\\nThe government has raised the ceiling for its emergency borrowing tools by 50 per cent to manage fiscal deficits amid poor resource mobilisation, according to an official document, as economists warned that this could exacerbate inflationary discomfort. There are two popular emergency borrowing to\\nNewly appointed Chairman of the National Board of Revenue (NBR) Md Abdur Rahman Khan said he personally considers the black money whitening scheme \"totally unacceptable\" and it is \"indecent and unfair\" to regular taxpayers. \"Not as the NBR chairman, but my personal view is that the money whitening\\nNational Board of Revenue (NBR) Chairman Md Abdur Rahman Khan has strongly criticised the practice of whitening black money, calling it an “indecent deed” and “totally unacceptable,” during a views exchange meeting on Sunday. “Personally, I believe that the practice o\\nStarting from Sunday, the Bangladesh Bank has set a new cash withdrawal limit of Tk 300,000 via cheques, up from the previous limit of Tk 200,000. The decision was communicated to all commercial banks on Saturday, with the central bank directing strict adherence to the new limit for security reaso\\nAfter a sharp decline in the annual transactions of the government’s fixed-income tradable securities in the secondary market in FY23, the transaction bounded back in the past fiscal year (FY24). Statistics available with Bangladesh Bank showed that the combined value of annual secondary tra\\nBangladeshi expatriates are now upbeat about sending remittance back home through the formal channel as they rest reassured that the country is on track after the formation of an interim government. Migrants abroad raised voices against the Sheikh Hasina government\\'s oppression of people during th\\nThe Asian Development Bank (ADB) has engaged with the interim government to support Bangladesh’s development strides. “ADB is fully committed to our long-standing partnership with Bangladesh, supporting its sustainable development in alignment with the aspirations of its people. Our co\\nMd Abdur Rahman Khan, Secretary of the Financial Institutions Division, has been appointed as the Chairman of the National Board of Revenue (NBR). The Ministry of Public Administration issued a notification regarding this decision on Wednesday. Earlier in the day, the contractual appointments of\\nPABX : 02223389780 (Hunting)\\nMobile: 01917231083\\nFax : 880-2-02223387049\\nYou\\'ll get monthly newsletter from us!\\n© 2024 - All Rights with The Financial Express')"
      ]
     },
     "execution_count": 10,
     "metadata": {},
     "output_type": "execute_result"
    }
   ],
   "source": [
    "title = response.html.find('h3', first=True).text\n",
    "\n",
    "reporter = response.html.find('h4.font-bold.text-xl',first=True).text\n",
    "\n",
    "\n",
    "news_body_element = response.html.find('p')\n",
    "news_body = \"\\n\".join([p.text for p in news_body_element])\n",
    "title, reporter, news_body"
   ]
  },
  {
   "cell_type": "code",
   "execution_count": 78,
   "metadata": {},
   "outputs": [
    {
     "data": {
      "text/plain": [
       "[<Element 'img' src='/_nuxt/img/logo-m-d.fdbe9a9.png' alt='The Financial Express' data-v-0a31308d=''>,\n",
       " <Element 'img' src='/_nuxt/img/logo-m-l.a7c55ba.png' alt='The Financial Express' data-v-0a31308d=''>,\n",
       " <Element 'img' src='data:,' alt='Bangladesh to raise interest rates to tame inflation' class=('v-lazy-image', 'aspect-w-3', 'aspect-h-2', 'pb-0', 'object-center', 'object-cover', 'mx-auto')>,\n",
       " <Element 'img' src='data:,' alt='‘Prices of essential commodities increase by 50pc in two years’' class=('v-lazy-image', 'aspect-w-3', 'aspect-h-2', 'pb-0', 'object-center', 'object-cover', 'mx-auto')>,\n",
       " <Element 'img' src='data:,' alt='No more ‘illegal’ liquidity support for weak banks: BB governor' class=('v-lazy-image', 'aspect-w-3', 'aspect-h-2', 'pb-0', 'object-center', 'object-cover', 'mx-auto')>,\n",
       " <Element 'img' src='data:,' alt='Fund-sapping motivated megaprojects may be axed' class=('v-lazy-image', 'aspect-w-3', 'aspect-h-2', 'pb-0', 'object-center', 'object-cover', 'mx-auto')>,\n",
       " <Element 'img' src='data:,' alt='Govt raises emergency borrowing ceiling 50pc' class=('v-lazy-image', 'aspect-w-3', 'aspect-h-2', 'pb-0', 'object-center', 'object-cover', 'mx-auto')>,\n",
       " <Element 'img' src='data:,' alt='Revenue chief slams black money whitening scheme' class=('v-lazy-image', 'aspect-w-3', 'aspect-h-2', 'pb-0', 'object-center', 'object-cover', 'mx-auto')>,\n",
       " <Element 'img' src='data:,' alt='New NBR chief calls black money whitening scope an indecent deed' class=('v-lazy-image', 'aspect-w-3', 'aspect-h-2', 'pb-0', 'object-center', 'object-cover', 'mx-auto')>,\n",
       " <Element 'img' src='data:,' alt='Bangladesh Bank raises cash withdrawal limit to Tk 300,000' class=('v-lazy-image', 'aspect-w-3', 'aspect-h-2', 'pb-0', 'object-center', 'object-cover', 'mx-auto')>,\n",
       " <Element 'img' src='data:,' alt='Secondary trading of treasury bills, bonds jumps 56 pc in FY24' class=('v-lazy-image', 'aspect-w-3', 'aspect-h-2', 'pb-0', 'object-center', 'object-cover', 'mx-auto')>,\n",
       " <Element 'img' src='data:,' alt='Expats keen to remit thru banking channel' class=('v-lazy-image', 'aspect-w-3', 'aspect-h-2', 'pb-0', 'object-center', 'object-cover', 'mx-auto')>,\n",
       " <Element 'img' src='data:,' alt='ADB engages with interim govt to support Bangladesh’s development' class=('v-lazy-image', 'aspect-w-3', 'aspect-h-2', 'pb-0', 'object-center', 'object-cover', 'mx-auto')>,\n",
       " <Element 'img' src='data:,' alt='Abdur Rahman Khan appointed NBR chairman' class=('v-lazy-image', 'aspect-w-3', 'aspect-h-2', 'pb-0', 'object-center', 'object-cover', 'mx-auto')>,\n",
       " <Element 'img' src='data:,' alt='New BB governor hopes to contain inflation within four to five months\\xa0' class=('v-lazy-image', 'aspect-w-3', 'aspect-h-2', 'pb-0', 'object-center', 'object-cover', 'mx-auto')>]"
      ]
     },
     "execution_count": 78,
     "metadata": {},
     "output_type": "execute_result"
    }
   ],
   "source": [
    "response.html.find('img')"
   ]
  },
  {
   "cell_type": "code",
   "execution_count": 79,
   "metadata": {},
   "outputs": [
    {
     "data": {
      "text/plain": [
       "'Editor: Shamsul Huq Zahid'"
      ]
     },
     "execution_count": 79,
     "metadata": {},
     "output_type": "execute_result"
    }
   ],
   "source": [
    "reporter = response.html.find('h4.font-bold.text-xl',first=True).text\n",
    "reporter"
   ]
  },
  {
   "cell_type": "code",
   "execution_count": 80,
   "metadata": {},
   "outputs": [
    {
     "name": "stdout",
     "output_type": "stream",
     "text": [
      "/_nuxt/img/logo-m-d.fdbe9a9.png\n",
      "/_nuxt/img/logo-m-l.a7c55ba.png\n",
      "data:,\n",
      "data:,\n",
      "data:,\n",
      "data:,\n",
      "data:,\n",
      "data:,\n",
      "data:,\n",
      "data:,\n",
      "data:,\n",
      "data:,\n",
      "data:,\n",
      "data:,\n",
      "data:,\n"
     ]
    }
   ],
   "source": [
    "images_element = response.html.find('img')\n",
    "images_element, len(images_element)\n",
    "for images in images_element:\n",
    "    image_url = images.attrs['src']\n",
    "    print(image_url)"
   ]
  },
  {
   "cell_type": "code",
   "execution_count": 20,
   "metadata": {},
   "outputs": [
    {
     "data": {
      "text/plain": [
       "[<Element 'img' src='/_nuxt/img/logo-m-d.fdbe9a9.png' alt='The Financial Express' data-v-0a31308d=''>,\n",
       " <Element 'img' src='/_nuxt/img/logo-m-l.a7c55ba.png' alt='The Financial Express' data-v-0a31308d=''>,\n",
       " <Element 'img' src='data:,' alt='Bangladesh to raise interest rates to tame inflation' class=('v-lazy-image', 'aspect-w-3', 'aspect-h-2', 'pb-0', 'object-center', 'object-cover', 'mx-auto')>,\n",
       " <Element 'img' src='data:,' alt='‘Prices of essential commodities increase by 50pc in two years’' class=('v-lazy-image', 'aspect-w-3', 'aspect-h-2', 'pb-0', 'object-center', 'object-cover', 'mx-auto')>,\n",
       " <Element 'img' src='data:,' alt='No more ‘illegal’ liquidity support for weak banks: BB governor' class=('v-lazy-image', 'aspect-w-3', 'aspect-h-2', 'pb-0', 'object-center', 'object-cover', 'mx-auto')>,\n",
       " <Element 'img' src='data:,' alt='Fund-sapping motivated megaprojects may be axed' class=('v-lazy-image', 'aspect-w-3', 'aspect-h-2', 'pb-0', 'object-center', 'object-cover', 'mx-auto')>,\n",
       " <Element 'img' src='data:,' alt='Govt raises emergency borrowing ceiling 50pc' class=('v-lazy-image', 'aspect-w-3', 'aspect-h-2', 'pb-0', 'object-center', 'object-cover', 'mx-auto')>,\n",
       " <Element 'img' src='data:,' alt='Revenue chief slams black money whitening scheme' class=('v-lazy-image', 'aspect-w-3', 'aspect-h-2', 'pb-0', 'object-center', 'object-cover', 'mx-auto')>,\n",
       " <Element 'img' src='data:,' alt='New NBR chief calls black money whitening scope an indecent deed' class=('v-lazy-image', 'aspect-w-3', 'aspect-h-2', 'pb-0', 'object-center', 'object-cover', 'mx-auto')>,\n",
       " <Element 'img' src='data:,' alt='Bangladesh Bank raises cash withdrawal limit to Tk 300,000' class=('v-lazy-image', 'aspect-w-3', 'aspect-h-2', 'pb-0', 'object-center', 'object-cover', 'mx-auto')>,\n",
       " <Element 'img' src='data:,' alt='Secondary trading of treasury bills, bonds jumps 56 pc in FY24' class=('v-lazy-image', 'aspect-w-3', 'aspect-h-2', 'pb-0', 'object-center', 'object-cover', 'mx-auto')>,\n",
       " <Element 'img' src='data:,' alt='Expats keen to remit thru banking channel' class=('v-lazy-image', 'aspect-w-3', 'aspect-h-2', 'pb-0', 'object-center', 'object-cover', 'mx-auto')>,\n",
       " <Element 'img' src='data:,' alt='ADB engages with interim govt to support Bangladesh’s development' class=('v-lazy-image', 'aspect-w-3', 'aspect-h-2', 'pb-0', 'object-center', 'object-cover', 'mx-auto')>,\n",
       " <Element 'img' src='data:,' alt='Abdur Rahman Khan appointed NBR chairman' class=('v-lazy-image', 'aspect-w-3', 'aspect-h-2', 'pb-0', 'object-center', 'object-cover', 'mx-auto')>,\n",
       " <Element 'img' src='data:,' alt='New BB governor hopes to contain inflation within four to five months\\xa0' class=('v-lazy-image', 'aspect-w-3', 'aspect-h-2', 'pb-0', 'object-center', 'object-cover', 'mx-auto')>]"
      ]
     },
     "execution_count": 20,
     "metadata": {},
     "output_type": "execute_result"
    }
   ],
   "source": [
    "response.html.find('img')"
   ]
  },
  {
   "cell_type": "code",
   "execution_count": null,
   "metadata": {},
   "outputs": [],
   "source": []
  },
  {
   "cell_type": "code",
   "execution_count": 81,
   "metadata": {},
   "outputs": [
    {
     "name": "stdout",
     "output_type": "stream",
     "text": [
      "The Bangladesh Bank is set to announce a decision to raise interest rates from 8.5 per cent to 9.0 per cent in a day or two, Governor Ahsan H Mansur said. In an interview with BBC at the central bank’s offices in Dhaka on Wednesday, Mansur said he would raise rates further to 10 per cent or\n",
      "Distinguished fellow of the Centre for Policy Dialogue (CPD) Professor Dr Mustafizur Rahman has said the prices of essential commodities have increased by at least 50 per cent in the last two years. He came up with the statement while addressing a debate competition organised by Debate For Democra\n",
      "The Governor of the Bangladesh Bank Dr Ahsan H Mansur has announced that weak banks including the Shariah-based banks will no longer receive illegal liquidity support from the central bank. He stated that actions will be taken against individuals involved in irregularities, not against institution\n",
      "Ongoing large and megaprojects will be reviewed and less-priority and \"politically motivated\" ones scrapped, says Planning and Education Adviser Prof Wahiduddin Mahmud of the interim government. \"There are irregularities in taking up projects as some are undertaken by the influence of the co\n",
      "The government has raised the ceiling for its emergency borrowing tools by 50 per cent to manage fiscal deficits amid poor resource mobilisation, according to an official document, as economists warned that this could exacerbate inflationary discomfort. There are two popular emergency borrowing to\n",
      "Newly appointed Chairman of the National Board of Revenue (NBR) Md Abdur Rahman Khan said he personally considers the black money whitening scheme \"totally unacceptable\" and it is \"indecent and unfair\" to regular taxpayers. \"Not as the NBR chairman, but my personal view is that the money whitening\n",
      "National Board of Revenue (NBR) Chairman Md Abdur Rahman Khan has strongly criticised the practice of whitening black money, calling it an “indecent deed” and “totally unacceptable,” during a views exchange meeting on Sunday. “Personally, I believe that the practice o\n",
      "Starting from Sunday, the Bangladesh Bank has set a new cash withdrawal limit of Tk 300,000 via cheques, up from the previous limit of Tk 200,000. The decision was communicated to all commercial banks on Saturday, with the central bank directing strict adherence to the new limit for security reaso\n",
      "After a sharp decline in the annual transactions of the government’s fixed-income tradable securities in the secondary market in FY23, the transaction bounded back in the past fiscal year (FY24). Statistics available with Bangladesh Bank showed that the combined value of annual secondary tra\n",
      "Bangladeshi expatriates are now upbeat about sending remittance back home through the formal channel as they rest reassured that the country is on track after the formation of an interim government. Migrants abroad raised voices against the Sheikh Hasina government's oppression of people during th\n",
      "The Asian Development Bank (ADB) has engaged with the interim government to support Bangladesh’s development strides. “ADB is fully committed to our long-standing partnership with Bangladesh, supporting its sustainable development in alignment with the aspirations of its people. Our co\n",
      "Md Abdur Rahman Khan, Secretary of the Financial Institutions Division, has been appointed as the Chairman of the National Board of Revenue (NBR). The Ministry of Public Administration issued a notification regarding this decision on Wednesday. Earlier in the day, the contractual appointments of\n",
      "Bangladesh Bank (BB) Governor Ahsan H Mansur has said the inflation will be controlled within four to five months. After a meeting at the finance ministry on Wednesday, the new governor said the foreign exchange reserves will be used in importing essential commodities after keeping aside a comfort\n",
      "PABX : 02223389780 (Hunting)\n",
      "Mobile: 01917231083\n",
      "Fax : 880-2-02223387049\n",
      "You'll get monthly newsletter from us!\n",
      "© 2024 - All Rights with The Financial Express\n"
     ]
    }
   ],
   "source": [
    "news_body = []\n",
    "all_p = response.html.find('p')\n",
    "for p in all_p:\n",
    "    # print(p.text)\n",
    "    news_body.append(p.text)\n",
    "news_body = '\\n'.join(news_body)\n",
    "print(news_body)"
   ]
  },
  {
   "cell_type": "code",
   "execution_count": 67,
   "metadata": {},
   "outputs": [
    {
     "name": "stdout",
     "output_type": "stream",
     "text": [
      "Wednesday, 21 August 2024\n"
     ]
    }
   ],
   "source": [
    "import re\n",
    "\n",
    "# Sample text from datetime_element\n",
    "datetime_element = \"\"\" BN\\nWednesday, 21 August 2024\\nArchive | Wednesday, 21 August 2024\\nBN\\n...\"\"\"\n",
    "\n",
    "# Regular expression to match the day and date format (e.g., \"Wednesday, 21 August 2024\")\n",
    "date_pattern = r'\\b[A-Za-z]+day, \\d{1,2} \\w+ \\d{4}'\n",
    "\n",
    "# Find the first match in the text\n",
    "match = re.search(date_pattern, datetime_element)\n",
    "\n",
    "if match:\n",
    "    date_str = match.group(0)\n",
    "    print( date_str)\n",
    "else:\n",
    "    print(\"No date found.\")"
   ]
  },
  {
   "cell_type": "code",
   "execution_count": 27,
   "metadata": {},
   "outputs": [],
   "source": [
    "images = response.html.find('#f91ea423-844b-4374-b73b-6abdeac72a51 > div.storyCard.eyOoS > div:nth-child(2) > div > div:nth-child(1) > div > figure > picture > img')"
   ]
  },
  {
   "cell_type": "code",
   "execution_count": null,
   "metadata": {},
   "outputs": [],
   "source": []
  }
 ],
 "metadata": {
  "kernelspec": {
   "display_name": "base",
   "language": "python",
   "name": "python3"
  },
  "language_info": {
   "codemirror_mode": {
    "name": "ipython",
    "version": 3
   },
   "file_extension": ".py",
   "mimetype": "text/x-python",
   "name": "python",
   "nbconvert_exporter": "python",
   "pygments_lexer": "ipython3",
   "version": "3.12.5"
  }
 },
 "nbformat": 4,
 "nbformat_minor": 2
}
